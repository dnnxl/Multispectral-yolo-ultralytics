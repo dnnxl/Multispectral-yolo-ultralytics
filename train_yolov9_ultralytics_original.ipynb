{
 "cells": [
  {
   "cell_type": "code",
   "execution_count": 1,
   "metadata": {},
   "outputs": [],
   "source": [
    "#pytorch\n",
    "# cv2\n",
    "# matplotlin\n",
    "# conda install conda-forge::tqdm\n",
    "# pip install dill\n",
    "# pip cache purge\n",
    "# pip install git+https://github.com/THU-MIG/yolov10.git\n",
    "# pip install huggingface-hub"
   ]
  },
  {
   "cell_type": "code",
   "execution_count": 1,
   "metadata": {},
   "outputs": [],
   "source": [
    "from torch import nn\n",
    "from ultralytics import YOLO\n",
    "\n",
    "import os\n",
    "import json "
   ]
  },
  {
   "cell_type": "code",
   "execution_count": 2,
   "metadata": {},
   "outputs": [],
   "source": [
    "class Constants_Models_Weights:\n",
    "    YOLOV3 = \"yolov3n.pt\"\n",
    "    YOLOV5 = \"yolov5nu.pt\"\n",
    "    YOLOV6 = \"yolov6-n.pt\"\n",
    "    YOLOV8 = \"yolov8n.pt\"\n",
    "    YOLOV9 = \"yolov9c.pt\"\n",
    "\n",
    "class Constants_Models:\n",
    "    YOLOV3 = \"yolov3\"\n",
    "    YOLOV5 = \"yolov5\"\n",
    "    YOLOV6 = \"yolov6\"\n",
    "    YOLOV8 = \"yolov8\"\n",
    "    YOLOV9 = \"yolov9\"\n",
    "\n",
    "class Constants_Training:\n",
    "    PRETRAINED = \"pretrained\"\n",
    "    FROM_SCRATCH = \"scratch\"\n",
    "    FINE_TUNING = \"fine-tuning\""
   ]
  },
  {
   "cell_type": "code",
   "execution_count": 3,
   "metadata": {},
   "outputs": [],
   "source": [
    "def save_json(data, filename):\n",
    "    if os.path.isfile(filename):\n",
    "        os.remove(filename)\n",
    "    json.dump(data, open(filename, 'w'), indent=4)"
   ]
  },
  {
   "cell_type": "code",
   "execution_count": 4,
   "metadata": {},
   "outputs": [],
   "source": [
    "def freeze_layer(trainer):\n",
    "    model = trainer.model\n",
    "    num_freeze = 10\n",
    "    print(f\"Freezing {num_freeze} layers\")\n",
    "    freeze = [f'model.{x}.' for x in range(num_freeze)]  # layers to freeze \n",
    "    for k, v in model.named_parameters(): \n",
    "        v.requires_grad = True  # train all layers \n",
    "        if any(x in k for x in freeze): \n",
    "            print(f'freezing {k}') \n",
    "            v.requires_grad = False \n",
    "    print(f\"{num_freeze} layers are freezed.\")"
   ]
  },
  {
   "cell_type": "code",
   "execution_count": 5,
   "metadata": {},
   "outputs": [],
   "source": [
    "class Yolov9(nn.Module):\n",
    "    \n",
    "    def __init__(self, args):\n",
    "        super(Yolov9, self).__init__()\n",
    "\n",
    "        # For RGB Datasets\n",
    "        if args[\"training_mode\"] == \"pretrained\":\n",
    "            self.model = YOLO(\"yolov9c.pt\")\n",
    "            self.model.add_callback(\"on_train_start\", freeze_layer)\n",
    "        elif args[\"training_mode\"] == \"scratch\":\n",
    "            self.model = YOLO(\"C:/Users/dnnxl/Documents/multispectral_yolov9/models/yolov9.yaml\")\n",
    "        elif args[\"training_mode\"]== \"fine-tuning\":\n",
    "            self.model = YOLO(\"yolov9c.pt\")\n",
    "        \n",
    "    def train(self, args, output_folder):\n",
    "\n",
    "        train_results = self.model.train(data=args[\"data_root\"], epochs=args[\"epochs\"], imgsz=args[\"imgsz\"], patience=args[\"patience\"], batch=args[\"batch\"], \n",
    "              save=args[\"save\"], save_period=args[\"save_period\"], device=args[\"device\"], workers=args[\"workers\"], project=output_folder, \n",
    "              name=args[\"name\"], pretrained=args[\"pretrained\"], optimizer=args[\"optimizer\"], seed=args[\"seed\"], cos_lr=args[\"cos_lr\"], \n",
    "              resume=args[\"resume\"], lr0=args[\"lr0\"], momentum=args[\"momentum\"], weight_decay=args[\"weight_decay\"], val=args[\"val\"])\n",
    "        \n",
    "        return train_results \n",
    "\n",
    "\n",
    "    def test(self, args):\n",
    "        test_results = self.model.val(data=args[\"data_root\"], device=args[\"device\"])\n",
    "        return test_results"
   ]
  },
  {
   "cell_type": "code",
   "execution_count": 6,
   "metadata": {},
   "outputs": [],
   "source": [
    "def yolo_v(args, output_root):\n",
    "    \n",
    "    # Create the output directory\n",
    "    if not os.path.exists(output_root):\n",
    "        os.makedirs(output_root, exist_ok=True)\n",
    "\n",
    "    # STEP 1: Save the training configuration in a file \n",
    "    save_json(args, os.path.join(output_root, \"train_config.json\"))\n",
    "    # STEP 2: Save\n",
    "    if args[\"model\"] == Constants_Models.YOLOV9:\n",
    "        model = Yolov9(args)\n",
    "\n",
    "    # STEP 3: Train the model\n",
    "    train_results = model.train(args, output_folder=output_root)\n",
    "    save_json(train_results.results_dict, os.path.join(output_root, \"train_results.json\"))\n",
    "    # STEP 4: Test the model on the test dataset\n",
    "    test_results = model.test(args)\n",
    "    save_json(test_results.results_dict, os.path.join(output_root, \"test_results.json\"))\n",
    "\n",
    "    return test_results.results_dict"
   ]
  },
  {
   "cell_type": "code",
   "execution_count": 7,
   "metadata": {},
   "outputs": [],
   "source": [
    "# Define the arguments manually\n",
    "args = {\n",
    "    'data_root': \"C:/Users/dnnxl/Documents/pineapple_yolov9/pineapples_1.v1i.yolov9/data.yaml\",\n",
    "    'output_root': './output/',\n",
    "    'epochs': 2,\n",
    "    'patience': 100,\n",
    "    'batch': 16,\n",
    "    'imgsz': 160,\n",
    "    'save_period': -1,\n",
    "    'device': \"cpu\",\n",
    "    'workers': 4,\n",
    "    'name': None,\n",
    "    'pretrained': 1,\n",
    "    'optimizer': 'auto',\n",
    "    'seed': 0,\n",
    "    'resume': 0,\n",
    "    'lr0': 0.001,\n",
    "    'momentum': 0.937,\n",
    "    'weight_decay': 0.0005,\n",
    "    'model': 'yolov9',\n",
    "    'model_weights': 'yolov10n.pt',\n",
    "    'numa': -1,\n",
    "    'training_mode': \"fine-tuning\",  # pretrained, scratch, fine-tuning\n",
    "    'model': 'yolov9',\n",
    "    'save': True,\n",
    "    'cos_lr': True, \n",
    "    'val': False\n",
    "}"
   ]
  },
  {
   "cell_type": "code",
   "execution_count": 8,
   "metadata": {},
   "outputs": [
    {
     "name": "stdout",
     "output_type": "stream",
     "text": [
      "Ultralytics YOLOv8.2.32  Python-3.12.3 torch-2.3.1 CPU (12th Gen Intel Core(TM) i5-1235U)\n",
      "\u001b[34m\u001b[1mengine\\trainer: \u001b[0mtask=detect, mode=train, model=yolov9c.pt, data=C:/Users/dnnxl/Documents/pineapple_yolov9/pineapples_1.v1i.yolov9/data.yaml, epochs=2, time=None, patience=100, batch=16, imgsz=160, save=True, save_period=-1, cache=False, device=cpu, workers=4, project=./output/, name=train, exist_ok=False, pretrained=1, optimizer=auto, verbose=True, seed=0, deterministic=True, single_cls=False, rect=False, cos_lr=True, close_mosaic=10, resume=0, amp=True, fraction=1.0, profile=False, freeze=None, multi_scale=False, overlap_mask=True, mask_ratio=4, dropout=0.0, val=False, split=val, save_json=False, save_hybrid=False, conf=None, iou=0.7, max_det=300, half=False, dnn=False, plots=True, source=None, vid_stride=1, stream_buffer=False, visualize=False, augment=False, agnostic_nms=False, classes=None, retina_masks=False, embed=None, show=False, save_frames=False, save_txt=False, save_conf=False, save_crop=False, show_labels=True, show_conf=True, show_boxes=True, line_width=None, format=torchscript, keras=False, optimize=False, int8=False, dynamic=False, simplify=False, opset=None, workspace=4, nms=False, lr0=0.001, lrf=0.01, momentum=0.937, weight_decay=0.0005, warmup_epochs=3.0, warmup_momentum=0.8, warmup_bias_lr=0.1, box=7.5, cls=0.5, dfl=1.5, pose=12.0, kobj=1.0, label_smoothing=0.0, nbs=64, hsv_h=0.015, hsv_s=0.7, hsv_v=0.4, degrees=0.0, translate=0.1, scale=0.5, shear=0.0, perspective=0.0, flipud=0.0, fliplr=0.5, bgr=0.0, mosaic=1.0, mixup=0.0, copy_paste=0.0, auto_augment=randaugment, erasing=0.4, crop_fraction=1.0, cfg=None, tracker=botsort.yaml, save_dir=output\\train\n",
      "Overriding model.yaml nc=80 with nc=1\n",
      "\n",
      "                   from  n    params  module                                       arguments                     \n",
      "  0                  -1  1      1856  ultralytics.nn.modules.conv.Conv             [3, 64, 3, 2]                 \n",
      "  1                  -1  1     73984  ultralytics.nn.modules.conv.Conv             [64, 128, 3, 2]               \n",
      "  2                  -1  1    212864  ultralytics.nn.modules.block.RepNCSPELAN4    [128, 256, 128, 64, 1]        \n",
      "  3                  -1  1    164352  ultralytics.nn.modules.block.ADown           [256, 256]                    \n",
      "  4                  -1  1    847616  ultralytics.nn.modules.block.RepNCSPELAN4    [256, 512, 256, 128, 1]       \n",
      "  5                  -1  1    656384  ultralytics.nn.modules.block.ADown           [512, 512]                    \n",
      "  6                  -1  1   2857472  ultralytics.nn.modules.block.RepNCSPELAN4    [512, 512, 512, 256, 1]       \n",
      "  7                  -1  1    656384  ultralytics.nn.modules.block.ADown           [512, 512]                    \n",
      "  8                  -1  1   2857472  ultralytics.nn.modules.block.RepNCSPELAN4    [512, 512, 512, 256, 1]       \n",
      "  9                  -1  1    656896  ultralytics.nn.modules.block.SPPELAN         [512, 512, 256]               \n",
      " 10                  -1  1         0  torch.nn.modules.upsampling.Upsample         [None, 2, 'nearest']          \n",
      " 11             [-1, 6]  1         0  ultralytics.nn.modules.conv.Concat           [1]                           \n",
      " 12                  -1  1   3119616  ultralytics.nn.modules.block.RepNCSPELAN4    [1024, 512, 512, 256, 1]      \n",
      " 13                  -1  1         0  torch.nn.modules.upsampling.Upsample         [None, 2, 'nearest']          \n",
      " 14             [-1, 4]  1         0  ultralytics.nn.modules.conv.Concat           [1]                           \n",
      " 15                  -1  1    912640  ultralytics.nn.modules.block.RepNCSPELAN4    [1024, 256, 256, 128, 1]      \n",
      " 16                  -1  1    164352  ultralytics.nn.modules.block.ADown           [256, 256]                    \n",
      " 17            [-1, 12]  1         0  ultralytics.nn.modules.conv.Concat           [1]                           \n",
      " 18                  -1  1   2988544  ultralytics.nn.modules.block.RepNCSPELAN4    [768, 512, 512, 256, 1]       \n",
      " 19                  -1  1    656384  ultralytics.nn.modules.block.ADown           [512, 512]                    \n",
      " 20             [-1, 9]  1         0  ultralytics.nn.modules.conv.Concat           [1]                           \n",
      " 21                  -1  1   3119616  ultralytics.nn.modules.block.RepNCSPELAN4    [1024, 512, 512, 256, 1]      \n",
      " 22        [15, 18, 21]  1   5583571  ultralytics.nn.modules.head.Detect           [1, [256, 512, 512]]          \n",
      "YOLOv9c summary: 618 layers, 25530003 parameters, 25529987 gradients, 103.7 GFLOPs\n",
      "\n",
      "Transferred 931/937 items from pretrained weights\n",
      "Freezing layer 'model.22.dfl.conv.weight'\n"
     ]
    },
    {
     "name": "stderr",
     "output_type": "stream",
     "text": [
      "\u001b[34m\u001b[1mtrain: \u001b[0mScanning C:\\Users\\dnnxl\\Documents\\pineapple_yolov9\\pineapples_1.v1i.yolov9\\train\\labels.cache... 124 images, 0 backgrounds, 0 corrupt: 100%|██████████| 124/124 [00:00<?, ?it/s]\n",
      "\u001b[34m\u001b[1mval: \u001b[0mScanning C:\\Users\\dnnxl\\Documents\\pineapple_yolov9\\pineapples_1.v1i.yolov9\\valid\\labels.cache... 31 images, 0 backgrounds, 0 corrupt: 100%|██████████| 31/31 [00:00<?, ?it/s]\n"
     ]
    },
    {
     "name": "stdout",
     "output_type": "stream",
     "text": [
      "Plotting labels to output\\train\\labels.jpg... \n",
      "\u001b[34m\u001b[1moptimizer:\u001b[0m 'optimizer=auto' found, ignoring 'lr0=0.001' and 'momentum=0.937' and determining best 'optimizer', 'lr0' and 'momentum' automatically... \n",
      "\u001b[34m\u001b[1moptimizer:\u001b[0m AdamW(lr=0.002, momentum=0.9) with parameter groups 154 weight(decay=0.0), 161 weight(decay=0.0005), 160 bias(decay=0.0)\n",
      "Image sizes 160 train, 160 val\n",
      "Using 0 dataloader workers\n",
      "Logging results to \u001b[1moutput\\train\u001b[0m\n",
      "Starting training for 2 epochs...\n",
      "\n",
      "      Epoch    GPU_mem   box_loss   cls_loss   dfl_loss  Instances       Size\n"
     ]
    },
    {
     "name": "stderr",
     "output_type": "stream",
     "text": [
      "        1/2         0G        5.4      5.115      1.446        896        160: 100%|██████████| 8/8 [00:42<00:00,  5.34s/it]\n"
     ]
    },
    {
     "name": "stdout",
     "output_type": "stream",
     "text": [
      "\n",
      "      Epoch    GPU_mem   box_loss   cls_loss   dfl_loss  Instances       Size\n"
     ]
    },
    {
     "name": "stderr",
     "output_type": "stream",
     "text": [
      "        2/2         0G       4.02      2.289       1.11        673        160: 100%|██████████| 8/8 [00:31<00:00,  3.96s/it]\n",
      "                 Class     Images  Instances      Box(P          R      mAP50  mAP50-95): 100%|██████████| 1/1 [00:03<00:00,  3.60s/it]\n"
     ]
    },
    {
     "name": "stdout",
     "output_type": "stream",
     "text": [
      "                   all         31       1420      0.169     0.0479     0.0348     0.0109\n",
      "\n",
      "2 epochs completed in 0.024 hours.\n",
      "Optimizer stripped from output\\train\\weights\\last.pt, 51.5MB\n",
      "Optimizer stripped from output\\train\\weights\\best.pt, 51.5MB\n",
      "\n",
      "Validating output\\train\\weights\\best.pt...\n",
      "Ultralytics YOLOv8.2.32  Python-3.12.3 torch-2.3.1 CPU (12th Gen Intel Core(TM) i5-1235U)\n",
      "YOLOv9c summary (fused): 384 layers, 25320019 parameters, 0 gradients, 102.3 GFLOPs\n"
     ]
    },
    {
     "name": "stderr",
     "output_type": "stream",
     "text": [
      "                 Class     Images  Instances      Box(P          R      mAP50  mAP50-95): 100%|██████████| 1/1 [00:02<00:00,  2.70s/it]\n"
     ]
    },
    {
     "name": "stdout",
     "output_type": "stream",
     "text": [
      "                   all         31       1420      0.168     0.0479     0.0349     0.0109\n",
      "Speed: 0.6ms preprocess, 68.3ms inference, 0.0ms loss, 0.4ms postprocess per image\n",
      "Results saved to \u001b[1moutput\\train\u001b[0m\n",
      "Ultralytics YOLOv8.2.32  Python-3.12.3 torch-2.3.1 CPU (12th Gen Intel Core(TM) i5-1235U)\n",
      "YOLOv9c summary (fused): 384 layers, 25320019 parameters, 0 gradients, 102.3 GFLOPs\n"
     ]
    },
    {
     "name": "stderr",
     "output_type": "stream",
     "text": [
      "\u001b[34m\u001b[1mval: \u001b[0mScanning C:\\Users\\dnnxl\\Documents\\pineapple_yolov9\\pineapples_1.v1i.yolov9\\valid\\labels.cache... 31 images, 0 backgrounds, 0 corrupt: 100%|██████████| 31/31 [00:00<?, ?it/s]\n",
      "                 Class     Images  Instances      Box(P          R      mAP50  mAP50-95): 100%|██████████| 2/2 [00:03<00:00,  1.52s/it]\n"
     ]
    },
    {
     "name": "stdout",
     "output_type": "stream",
     "text": [
      "                   all         31       1420      0.168     0.0479     0.0349     0.0109\n",
      "Speed: 0.1ms preprocess, 69.4ms inference, 0.0ms loss, 1.1ms postprocess per image\n",
      "Results saved to \u001b[1moutput\\train2\u001b[0m\n"
     ]
    },
    {
     "data": {
      "text/plain": [
       "{'metrics/precision(B)': 0.16843778753149238,\n",
       " 'metrics/recall(B)': 0.04788732394366197,\n",
       " 'metrics/mAP50(B)': 0.03486571694632599,\n",
       " 'metrics/mAP50-95(B)': 0.010903269288814802,\n",
       " 'fitness': 0.013299514054565921}"
      ]
     },
     "execution_count": 8,
     "metadata": {},
     "output_type": "execute_result"
    }
   ],
   "source": [
    "yolo_v(args, './output/')"
   ]
  },
  {
   "cell_type": "code",
   "execution_count": null,
   "metadata": {},
   "outputs": [],
   "source": []
  }
 ],
 "metadata": {
  "kernelspec": {
   "display_name": "multispectral-env",
   "language": "python",
   "name": "python3"
  },
  "language_info": {
   "codemirror_mode": {
    "name": "ipython",
    "version": 3
   },
   "file_extension": ".py",
   "mimetype": "text/x-python",
   "name": "python",
   "nbconvert_exporter": "python",
   "pygments_lexer": "ipython3",
   "version": "3.12.3"
  }
 },
 "nbformat": 4,
 "nbformat_minor": 2
}
